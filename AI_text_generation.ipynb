{
 "cells": [
  {
   "cell_type": "markdown",
   "metadata": {
    "id": "008TKBE4R9e0"
   },
   "source": [
    "# Intro to AI Text Generation\n",
    "Now that you've explored ChatGPT and learned how to program a chat system, you'll learn how to generate new text using OpenAI tools.\n",
    "\n",
    "**Text generation** is an AI-based process that generates new text or manipulates data from the user input.\n",
    "\n",
    "You'll learn how to generate an AI-based Mad Lib story with a list of words from the user input. Your list will include nouns, verbs, adjectives, and other information to help the AI system generate a two-paragraph funny Mad Lib story."
   ]
  },
  {
   "cell_type": "markdown",
   "metadata": {
    "id": "gSPpzK06XN3T"
   },
   "source": [
    "## Importing OpenAI\n",
    "To import the OpenAI library, you'll use the keyword import to install all the packages required to use the OpenAI tools."
   ]
  },
  {
   "cell_type": "code",
   "execution_count": 2,
   "metadata": {
    "id": "nNhKoB6dR7qF"
   },
   "outputs": [],
   "source": [
    "# Import the OpenAI library\n",
    "from openai import OpenAI"
   ]
  },
  {
   "cell_type": "code",
   "execution_count": 3,
   "metadata": {
    "id": "7Mm5ts5DXLhz"
   },
   "outputs": [],
   "source": [
    "# Use the OpenAI client library to add your API key.\n",
    "client = OpenAI(\n",
    "    api_key= \"50 bucks and ill tell you\"\n",
    ")"
   ]
  },
  {
   "cell_type": "markdown",
   "metadata": {
    "id": "RhRwaxofbeiO"
   },
   "source": [
    "## Mad Lib Generator\n",
    "Next, you'll set up the chatbot to create a funny Mad Lib story."
   ]
  },
  {
   "cell_type": "code",
   "execution_count": 4,
   "metadata": {
    "id": "BaFC6yWPbhtv"
   },
   "outputs": [
    {
     "name": "stdout",
     "output_type": "stream",
     "text": [
      "Please enter the following prompts: \n",
      "1. An emotion \n",
      "2. A color \n",
      "3. A noun \n",
      "4. An adjective \n",
      "5. A verb (past tense) \n",
      "6. A plural noun \n",
      "7. A type of food \n",
      "8. Another adjective \n",
      "9. A verb \n",
      "10. A noun (plural) \n",
      "11. An occupation \n",
      "12. A type of animal \n",
      "13. An adjective \n",
      "14. A verb (past tense) \n",
      "15. A noun \n",
      "16. A name \n",
      "17. Another name \n",
      "\n"
     ]
    },
    {
     "name": "stdin",
     "output_type": "stream",
     "text": [
      "Enter a response to prompt #1:  sadness\n",
      "Enter a response to prompt #2:  red\n",
      "Enter a response to prompt #3:  car\n",
      "Enter a response to prompt #4:  quickly\n",
      "Enter a response to prompt #5:  ran\n",
      "Enter a response to prompt #6:  bushes\n",
      "Enter a response to prompt #7:  spaghetti\n",
      "Enter a response to prompt #8:  big\n",
      "Enter a response to prompt #9:  talk\n",
      "Enter a response to prompt #10:  buildings\n",
      "Enter a response to prompt #11:  doctor\n",
      "Enter a response to prompt #12:  dog\n",
      "Enter a response to prompt #13:  small\n",
      "Enter a response to prompt #14:  jumped\n",
      "Enter a response to prompt #15:  cat\n",
      "Enter a response to prompt #16:  joe\n",
      "Enter a response to prompt #17:  mama\n"
     ]
    },
    {
     "name": "stdout",
     "output_type": "stream",
     "text": [
      "Assistant: One day, Joe decided to take his red car out for a spin to cheer himself up after feeling a bout of sadness. As he quickly ran through the bushes, he spotted a big plate of spaghetti left on the ground. Joe couldn't resist and dove in, scarfing down the noodles, twirling them around like a pro, while his car waited impatiently.\n",
      "\n",
      "Just then, a small dog appeared out of nowhere and jumped on Joe's lap, causing the car to swerve wildly. As Joe tried to regain control, a cat leaped onto the windshield, giving him a big talk about driving safely. Out of the blue, a doctor emerged from one of the nearby buildings, wearing a stethoscope around his neck, and began to perform CPR on the car, much to everyone's confusion and amusement. In the end, Joe realized it was all just a dream when his mom yelled, \"Joe, wake up! You fell asleep at the dinner table again!\"\n"
     ]
    }
   ],
   "source": [
    "# Create a print statement requesting the users to enter one word for each category.\n",
    "print(\"Please enter the following prompts: \\n1. An emotion \\n2. A color \\n3. A noun \\n4. An adjective \" +\n",
    "      \"\\n5. A verb (past tense) \\n6. A plural noun \\n7. A type of food \\n8. Another adjective \" + \n",
    "      \"\\n9. A verb \\n10. A noun (plural) \\n11. An occupation \\n12. A type of animal \" + \n",
    "      \"\\n13. An adjective \\n14. A verb (past tense) \\n15. A noun \\n16. A name \\n17. Another name \\n\")\n",
    "\n",
    "# Create an empty list called list_of_words.\n",
    "list_of_words = []\n",
    "\n",
    "# Create an empty string called string_of_words.\n",
    "string_of_words = \" \"\n",
    "\n",
    "# Create a for loop asking the user to enter a word for each category.\n",
    "for word in range(17):\n",
    "    get_input = input(\"Enter a response to prompt #\" + str(word + 1) + \": \")\n",
    "    list_of_words.append(get_input)\n",
    "\n",
    "# Create a system_data list to set up the functionality of the chatbot and set the value as the user input as a string_of_words in a key/value pair.\n",
    "system_data = [\n",
    "    {\"role\": \"system\", \"content\": \"Generate a funny two-paragraph Mad Lib story using the words.\"},\n",
    "    {\"role\": \"user\", \"content\": string_of_words.join(list_of_words)}\n",
    "]\n",
    "\n",
    "# Make a client.chat.completions.create() API call and set the model and messages.\n",
    "response = client.chat.completions.create(\n",
    "    model=\"gpt-3.5-turbo\",\n",
    "    messages=system_data\n",
    ")\n",
    "\n",
    "# Extract the AI's response from the API call and set the value to assistant_response.\n",
    "assistant_response = response.choices[0].message.content\n",
    "\n",
    "# Create a new dictionary to define the \"assistant\" role and the assistant_response as the content value, and add the dictionary to the system_data list.\n",
    "system_data.append({\"role\":\"assistant\", \"content\": assistant_response})\n",
    "\n",
    "# Print the assistant's response.\n",
    "print(\"Assistant: \" + assistant_response)"
   ]
  }
 ],
 "metadata": {
  "colab": {
   "provenance": []
  },
  "kernelspec": {
   "display_name": "Python 3 (ipykernel)",
   "language": "python",
   "name": "python3"
  },
  "language_info": {
   "codemirror_mode": {
    "name": "ipython",
    "version": 3
   },
   "file_extension": ".py",
   "mimetype": "text/x-python",
   "name": "python",
   "nbconvert_exporter": "python",
   "pygments_lexer": "ipython3",
   "version": "3.10.0"
  }
 },
 "nbformat": 4,
 "nbformat_minor": 4
}
