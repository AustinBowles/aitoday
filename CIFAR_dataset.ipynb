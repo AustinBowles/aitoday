{
 "cells": [
  {
   "cell_type": "markdown",
   "metadata": {
    "id": "Anpy2r4YJxC4"
   },
   "source": [
    "# Image Recognition\n",
    "In this notebook, you will create a convolutional neural network to classify images in CIFAR dataset."
   ]
  },
  {
   "cell_type": "code",
   "execution_count": 43,
   "metadata": {
    "id": "wzqp4LBxJvEx"
   },
   "outputs": [],
   "source": [
    "# Import TensorFlow and Keras to create the neural network\n",
    "import tensorflow as tf\n",
    "from tensorflow import keras\n",
    "\n",
    "from tensorflow.keras.datasets import cifar10\n",
    "from tensorflow.keras import backend as K\n",
    "import numpy as np\n",
    "\n",
    "# Matplotlib to plot info to show the results\n",
    "import matplotlib.pyplot as plt\n",
    "%matplotlib inline\n"
   ]
  },
  {
   "cell_type": "markdown",
   "metadata": {
    "id": "QmOv-Q4nMqOf"
   },
   "source": [
    "# Preparing the CIFAR data\n",
    "\n",
    "You'll write the code to load the CIFAR data from the files, and add the code that processes it into a format your neural network can use."
   ]
  },
  {
   "cell_type": "markdown",
   "metadata": {
    "id": "pVy_RwXN3NVZ"
   },
   "source": [
    "## Load the Data"
   ]
  },
  {
   "cell_type": "code",
   "execution_count": 44,
   "metadata": {
    "id": "8feXp0ZeMrzC"
   },
   "outputs": [],
   "source": [
    "# Load the CIFAR Data\n",
    "def show_min_max(array, i):\n",
    "    random_image = array[i]\n",
    "    print(\"min and max value in image: \", random_image.min(), random_image.max())"
   ]
  },
  {
   "cell_type": "code",
   "execution_count": 45,
   "metadata": {
    "id": "bdHJrb69M_01"
   },
   "outputs": [],
   "source": [
    "# Create a function that will plot a image from the dataset and display the image.\n",
    "def plot_image(array, i, labels):\n",
    "    plt.imshow(np.squeeze(array[i]))\n",
    "    plt.title(str(label_names[labels[i]]))\n",
    "    plt.xticks([])\n",
    "    plt.yticks([])\n",
    "    plt.show([])"
   ]
  },
  {
   "cell_type": "code",
   "execution_count": 46,
   "metadata": {
    "id": "lPXb5k_xNgHj"
   },
   "outputs": [],
   "source": [
    "# Create variables for the image row and column to keep track of your image size.\n",
    "img_rows, img_cols = 32, 32\n",
    "\n",
    "# Create a variable called num_classes and set the value to 10 output classes.\n",
    "num_classes = 10"
   ]
  },
  {
   "cell_type": "code",
   "execution_count": 47,
   "metadata": {
    "id": "8nU_ojiP1PJr"
   },
   "outputs": [],
   "source": [
    "# Create an input_shape variable to keep track of what shape this data is.\n",
    "input_shape = (img_rows, img_cols, 3)"
   ]
  },
  {
   "cell_type": "code",
   "execution_count": 48,
   "metadata": {
    "id": "807nFu6n1c-n"
   },
   "outputs": [],
   "source": [
    "# Load the data into your program to train the model and data to test it.\n",
    "(train_images, train_labels), (test_images, test_labels) = cifar10.load_data()\n",
    "\n",
    "# Load a backup copy of the untouched data, while the first copy will be processing the data and manipulating it.\n",
    "(train_images_backup, train_labels_backup), (test_images_backup, test_labels_backup) = cifar10.load_data()"
   ]
  },
  {
   "cell_type": "code",
   "execution_count": 49,
   "metadata": {
    "id": "WfOcvJA-2bot"
   },
   "outputs": [],
   "source": [
    "# Add a list of labels.\n",
    "label_names=['airplane', 'automobile', 'bird', 'cat', 'deer', 'dog', 'frog', 'horse', 'ship', 'truck']\n",
    "\n",
    "# Create a backup copy for the training labels.\n",
    "train_labels_backup = [item for sublist in train_labels_backup for item in sublist]\n",
    "\n",
    "# Create a backup copy for the test labels.\n",
    "test_labels_backup = [item for sublist in test_labels_backup for item in sublist]"
   ]
  },
  {
   "cell_type": "code",
   "execution_count": null,
   "metadata": {},
   "outputs": [],
   "source": []
  },
  {
   "cell_type": "code",
   "execution_count": 50,
   "metadata": {
    "id": "5_Ht-qve2gIq"
   },
   "outputs": [
    {
     "name": "stdout",
     "output_type": "stream",
     "text": [
      "(50000, 32, 32, 3)\n",
      "(10000, 32, 32, 3)\n"
     ]
    }
   ],
   "source": [
    "# Print the shape of the training image dataset.\n",
    "print(train_images.shape)\n",
    "\n",
    "# Print the shape of the test image dataset.\n",
    "print(test_images.shape)"
   ]
  },
  {
   "cell_type": "code",
   "execution_count": 51,
   "metadata": {
    "id": "_A_NM0JK2g2b"
   },
   "outputs": [
    {
     "data": {
      "image/png": "[encoded data removed]",
      "text/plain": [
       "<Figure size 640x480 with 1 Axes>"
      ]
     },
     "metadata": {},
     "output_type": "display_data"
    },
    {
     "name": "stdout",
     "output_type": "stream",
     "text": [
      "min and max value in image:  30 242\n"
     ]
    },
    {
     "data": {
      "image/png": "[encoded data removed]",
      "text/plain": [
       "<Figure size 640x480 with 1 Axes>"
      ]
     },
     "metadata": {},
     "output_type": "display_data"
    }
   ],
   "source": [
    "# Call the plot_image function to print out the 100th image in train_images with the backup labels.\n",
    "plot_image(train_images, 100, train_labels_backup)\n",
    "\n",
    "# Call the show_min_max function to print the min and max values of the image.\n",
    "show_min_max(train_images, 100)"
   ]
  },
  {
   "cell_type": "markdown",
   "metadata": {
    "id": "MZjB7tpN3Stx"
   },
   "source": [
    "# Sorting through the Data\n",
    "Now that the data is loaded, you'll do simple data cleaning. The color in pixels is stored as an integer value between 0 and 255. While your network can learn from this information, it will be easier to replace these values with a decimal between 0 and 1. This keeps the numbers the network is dealing with small."
   ]
  },
  {
   "cell_type": "markdown",
   "metadata": {
    "id": "OvGm7zIU3q5w"
   },
   "source": [
    "## Data Cleaning"
   ]
  },
  {
   "cell_type": "code",
   "execution_count": 52,
   "metadata": {
    "id": "kt68VKql3WCN"
   },
   "outputs": [
    {
     "name": "stderr",
     "output_type": "stream",
     "text": [
      "Clipping input data to the valid range for imshow with RGB data ([0..1] for floats or [0..255] for integers).\n"
     ]
    },
    {
     "data": {
      "image/png": "[encoded data removed]",
      "text/plain": [
       "<Figure size 640x480 with 1 Axes>"
      ]
     },
     "metadata": {},
     "output_type": "display_data"
    },
    {
     "name": "stdout",
     "output_type": "stream",
     "text": [
      "min and max value in image:  30.0 242.0\n"
     ]
    },
    {
     "data": {
      "image/png": "[encoded data removed]",
      "text/plain": [
       "<Figure size 640x480 with 1 Axes>"
      ]
     },
     "metadata": {},
     "output_type": "display_data"
    }
   ],
   "source": [
    "# Change the image values to between 0 and 1, convert the training data into float32.\n",
    "train_images = train_images.astype('float32')\n",
    "\n",
    "# Change the image values to between 0 and 1, convert the test data into float32.\n",
    "test_images = test_images.astype('float32')\n",
    "\n",
    "# Call the plot_image function to print out the 100th image in train_images with the backup labels.\n",
    "plot_image(train_images, 100, train_labels_backup)\n",
    "\n",
    "# Call the show_min_max function to print the min and max values of the image.\n",
    "show_min_max(train_images, 100)\n",
    "\n",
    "# Divide the images by 255 to make sure that each pixel is stored as a value between 0 and 1.\n",
    "train_images /= 255\n",
    "test_images /= 255\n",
    "\n",
    "# Load the train labels.\n",
    "train_labels = keras.utils.to_categorical(train_labels, num_classes)\n",
    "\n",
    "# Load the test labels.\n",
    "test_labels = keras.utils.to_categorical(test_labels, num_classes)"
   ]
  },
  {
   "cell_type": "markdown",
   "metadata": {
    "id": "P1VHtO5Y8OvY"
   },
   "source": [
    "# Building the Network\n",
    "Neural networks learn to accomplish their tasks by reading training data and adjusting their neuron weights to improve their chance of choosing the correct answer."
   ]
  },
  {
   "cell_type": "markdown",
   "metadata": {
    "id": "CCScErUx8T1q"
   },
   "source": [
    "## Import Model and Layers"
   ]
  },
  {
   "cell_type": "code",
   "execution_count": 53,
   "metadata": {
    "id": "Hg5E-nLl8UkI"
   },
   "outputs": [],
   "source": [
    "# Import the Sequential model.\n",
    "from tensorflow.keras.models import Sequential\n",
    "\n",
    "# Import the Dense, Dropout, Flatten, Conv2D, MaxPooling2D, and BatchNormalization layers.\n",
    "from tensorflow.keras.layers import Dense, Dropout, Flatten, Conv2D, MaxPooling2D, BatchNormalization"
   ]
  },
  {
   "cell_type": "markdown",
   "metadata": {
    "id": "lCLPV1xs8hbU"
   },
   "source": [
    "## Epochs and Model Layers"
   ]
  },
  {
   "cell_type": "code",
   "execution_count": 54,
   "metadata": {
    "id": "DsWzdykx8jwc"
   },
   "outputs": [],
   "source": [
    "# Create a variable called epochs and set the value as 10.\n",
    "epochs = 10\n",
    "\n",
    "# Create a variable to store the batch size and set the value as 64.\n",
    "batch_size=64\n",
    "\n",
    "# Create a new model object using the Keras Sequential command.\n",
    "model=Sequential()\n",
    "\n",
    "# Add a convolutional layer.\n",
    "model.add(Conv2D(filters=32, kernel_size=(3,3),activation = 'relu', input_shape=input_shape))\n",
    "\n",
    "# Add another convolutional layer.\n",
    "model.add(Conv2D(filters=64, kernel_size=(3,3),activation = 'relu'))\n",
    "\n",
    "# Add a max pooling layer to condense the information the network has learned so far.\n",
    "model.add(MaxPooling2D(pool_size=(2,2)))\n",
    "\n",
    "# Add a dropout layer, so the network doesn't learn to rely on specific neurons.\n",
    "model.add(Dropout(rate=0.2))"
   ]
  },
  {
   "cell_type": "markdown",
   "metadata": {
    "id": "6cQnJx-v9Ux2"
   },
   "source": [
    "## Batch Normalization"
   ]
  },
  {
   "cell_type": "code",
   "execution_count": 55,
   "metadata": {
    "id": "iWy7aqtc9WRe",
    "scrolled": true
   },
   "outputs": [
    {
     "name": "stdout",
     "output_type": "stream",
     "text": [
      "Model: \"sequential_4\"\n",
      "_________________________________________________________________\n",
      " Layer (type)                Output Shape              Param #   \n",
      "=================================================================\n",
      " conv2d_14 (Conv2D)          (None, 30, 30, 32)        896       \n",
      "                                                                 \n",
      " conv2d_15 (Conv2D)          (None, 28, 28, 64)        18496     \n",
      "                                                                 \n",
      " max_pooling2d_8 (MaxPoolin  (None, 14, 14, 64)        0         \n",
      " g2D)                                                            \n",
      "                                                                 \n",
      " dropout_8 (Dropout)         (None, 14, 14, 64)        0         \n",
      "                                                                 \n",
      " batch_normalization_6 (Bat  (None, 14, 14, 64)        256       \n",
      " chNormalization)                                                \n",
      "                                                                 \n",
      " conv2d_16 (Conv2D)          (None, 12, 12, 64)        36928     \n",
      "                                                                 \n",
      " max_pooling2d_9 (MaxPoolin  (None, 12, 12, 64)        0         \n",
      " g2D)                                                            \n",
      "                                                                 \n",
      " dropout_9 (Dropout)         (None, 12, 12, 64)        0         \n",
      "                                                                 \n",
      " batch_normalization_7 (Bat  (None, 12, 12, 64)        256       \n",
      " chNormalization)                                                \n",
      "                                                                 \n",
      " conv2d_17 (Conv2D)          (None, 10, 10, 128)       73856     \n",
      "                                                                 \n",
      " conv2d_18 (Conv2D)          (None, 8, 8, 64)          73792     \n",
      "                                                                 \n",
      " max_pooling2d_10 (MaxPooli  (None, 8, 8, 64)          0         \n",
      " ng2D)                                                           \n",
      "                                                                 \n",
      " dropout_10 (Dropout)        (None, 8, 8, 64)          0         \n",
      "                                                                 \n",
      " batch_normalization_8 (Bat  (None, 8, 8, 64)          256       \n",
      " chNormalization)                                                \n",
      "                                                                 \n",
      " flatten_2 (Flatten)         (None, 4096)              0         \n",
      "                                                                 \n",
      " dense_4 (Dense)             (None, 128)               524416    \n",
      "                                                                 \n",
      " dense_5 (Dense)             (None, 10)                1290      \n",
      "                                                                 \n",
      "=================================================================\n",
      "Total params: 730442 (2.79 MB)\n",
      "Trainable params: 730058 (2.78 MB)\n",
      "Non-trainable params: 384 (1.50 KB)\n",
      "_________________________________________________________________\n"
     ]
    }
   ],
   "source": [
    "# Add a BatchNormalization layer to your model\n",
    "model.add(BatchNormalization())\n",
    "\n",
    "# Adding More Layers\n",
    "model.add(Conv2D(filters=64, kernel_size=(3, 3), activation='relu'))\n",
    "model.add(MaxPooling2D(pool_size=(1, 1)))\n",
    "model.add(Dropout(rate=0.3))\n",
    "model.add(BatchNormalization())\n",
    "\n",
    "# The Final Stage of Layers\n",
    "model.add(Conv2D(filters=128, kernel_size=(3, 3), activation='relu'))\n",
    "model.add(Conv2D(filters=64, kernel_size=(3, 3), activation='relu'))\n",
    "model.add(MaxPooling2D(pool_size=(1, 1)))\n",
    "model.add(Dropout(rate=0.3))\n",
    "model.add(BatchNormalization())\n",
    "\n",
    "# The Output Layers\n",
    "model.add(Flatten())\n",
    "model.add(Dense(units=128, activation='relu'))\n",
    "model.add(Dense(units=num_classes,activation='softmax'))\n",
    "model.summary()"
   ]
  },
  {
   "cell_type": "markdown",
   "metadata": {
    "id": "cTsDTUmh96-_"
   },
   "source": [
    "# Training the Model\n",
    "First, you will compile the model and decide on a loss function, optimizer, and metrics. Then, you will use the fit function to train the model using the data. Finally, evaluate the model using the evaluate function."
   ]
  },
  {
   "cell_type": "markdown",
   "metadata": {
    "id": "7LJ6x9k9-ALu"
   },
   "source": [
    "## Compile the Network"
   ]
  },
  {
   "cell_type": "code",
   "execution_count": 56,
   "metadata": {
    "id": "OUHZfN-oAili"
   },
   "outputs": [],
   "source": [
    "# Add the compile function that calculates the loss and uses the optimizer parameter to set the optimization algorithm..\n",
    "model.compile(loss=keras.losses.categorical_crossentropy, optimizer='adam', metrics=['accuracy'])"
   ]
  },
  {
   "cell_type": "markdown",
   "metadata": {
    "id": "gwUYU7qTBI-v"
   },
   "source": [
    "## Training"
   ]
  },
  {
   "cell_type": "code",
   "execution_count": 57,
   "metadata": {
    "id": "WY1D-XkRBKHi"
   },
   "outputs": [
    {
     "name": "stdout",
     "output_type": "stream",
     "text": [
      "Epoch 1/10\n",
      "782/782 [==============================] - 161s 200ms/step - loss: 1.5714 - accuracy: 0.4459 - val_loss: 1.5905 - val_accuracy: 0.4370\n",
      "Epoch 2/10\n",
      "782/782 [==============================] - 192s 245ms/step - loss: 1.1036 - accuracy: 0.6067 - val_loss: 1.0226 - val_accuracy: 0.6391\n",
      "Epoch 3/10\n",
      "782/782 [==============================] - 189s 242ms/step - loss: 0.9129 - accuracy: 0.6775 - val_loss: 1.0936 - val_accuracy: 0.6403\n",
      "Epoch 4/10\n",
      "782/782 [==============================] - 122s 156ms/step - loss: 0.7945 - accuracy: 0.7203 - val_loss: 0.9083 - val_accuracy: 0.6814\n",
      "Epoch 5/10\n",
      "782/782 [==============================] - 122s 156ms/step - loss: 0.7191 - accuracy: 0.7462 - val_loss: 0.7850 - val_accuracy: 0.7254\n",
      "Epoch 6/10\n",
      "782/782 [==============================] - 125s 160ms/step - loss: 0.6618 - accuracy: 0.7663 - val_loss: 0.7922 - val_accuracy: 0.7266\n",
      "Epoch 7/10\n",
      "782/782 [==============================] - 71s 91ms/step - loss: 0.6100 - accuracy: 0.7830 - val_loss: 0.7323 - val_accuracy: 0.7513\n",
      "Epoch 8/10\n",
      "782/782 [==============================] - 69s 88ms/step - loss: 0.5654 - accuracy: 0.7996 - val_loss: 0.7795 - val_accuracy: 0.7355\n",
      "Epoch 9/10\n",
      "782/782 [==============================] - 76s 97ms/step - loss: 0.5234 - accuracy: 0.8145 - val_loss: 0.7097 - val_accuracy: 0.7686\n",
      "Epoch 10/10\n",
      "782/782 [==============================] - 68s 87ms/step - loss: 0.4913 - accuracy: 0.8261 - val_loss: 0.7202 - val_accuracy: 0.7646\n"
     ]
    },
    {
     "data": {
      "text/plain": [
       "<keras.src.callbacks.History at 0x1270ced96c0>"
      ]
     },
     "execution_count": 57,
     "metadata": {},
     "output_type": "execute_result"
    }
   ],
   "source": [
    "# Add the fit function and set the input data for the model so the network doesn't rely on a pattern to learn.\n",
    "model.fit(train_images, train_labels, batch_size=batch_size, epochs=epochs, validation_data=(test_images, test_labels), shuffle=True)"
   ]
  },
  {
   "cell_type": "markdown",
   "metadata": {
    "id": "DRr6-b8mDop_"
   },
   "source": [
    "## Analyzing the Output"
   ]
  },
  {
   "cell_type": "code",
   "execution_count": 58,
   "metadata": {
    "id": "3eTV3O-IDszK"
   },
   "outputs": [
    {
     "name": "stdout",
     "output_type": "stream",
     "text": [
      "Test accuracy: 0.7645999789237976\n"
     ]
    }
   ],
   "source": [
    "# Save the scores and calculate the loss and accuracy of your model.\n",
    "scores = model.evaluate(test_images, test_labels,verbose=0)\n",
    "\n",
    "# Print out the test accuracy.\n",
    "print('Test accuracy:', scores[1])"
   ]
  },
  {
   "cell_type": "markdown",
   "metadata": {
    "id": "tCkZZV7ED2zN"
   },
   "source": [
    "## Exporting the Model"
   ]
  },
  {
   "cell_type": "code",
   "execution_count": 60,
   "metadata": {
    "id": "RFiMIxXgD3Wt"
   },
   "outputs": [
    {
     "name": "stderr",
     "output_type": "stream",
     "text": [
      "C:\\Users\\Student\\AppData\\Local\\Programs\\Python\\Python310\\lib\\site-packages\\keras\\src\\engine\\training.py:3103: UserWarning: You are saving your model as an HDF5 file via `model.save()`. This file format is considered legacy. We recommend using instead the native Keras format, e.g. `model.save('my_model.keras')`.\n",
      "  saving_api.save_model(\n"
     ]
    }
   ],
   "source": [
    "# Export your model\n",
    "model.save('cifar_model.h5')\n"
   ]
  }
 ],
 "metadata": {
  "colab": {
   "provenance": [],
   "toc_visible": true
  },
  "kernelspec": {
   "display_name": "Python 3 (ipykernel)",
   "language": "python",
   "name": "python3"
  },
  "language_info": {
   "codemirror_mode": {
    "name": "ipython",
    "version": 3
   },
   "file_extension": ".py",
   "mimetype": "text/x-python",
   "name": "python",
   "nbconvert_exporter": "python",
   "pygments_lexer": "ipython3",
   "version": "3.10.0"
  }
 },
 "nbformat": 4,
 "nbformat_minor": 4
}
