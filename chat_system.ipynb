{
 "cells": [
  {
   "cell_type": "markdown",
   "metadata": {
    "id": "xGlC9lfuJE_V"
   },
   "source": [
    "# Intro to AI Technologies\n",
    "As technology advances, new artificial intelligence-based tools and features, such as speech recognition, image recognition, virtual chat assistants, etc., are being introduced.\n",
    "\n",
    "Recently, AI technologies from OpenAI have become more popular and well-known, such as ChatGPT, an AI-based chat system. You'll use OpenAI technologies to code your own AI-based applications."
   ]
  },
  {
   "cell_type": "markdown",
   "metadata": {
    "id": "UcA61nAWJpBh"
   },
   "source": [
    "## Importing OpenAI\n",
    "To import the OpenAI library, you'll use the keyword import to install all the packages required to use the OpenAI tools."
   ]
  },
  {
   "cell_type": "code",
   "execution_count": 27,
   "metadata": {
    "id": "BTes7FbwH3pF"
   },
   "outputs": [],
   "source": [
    "# Import the OpenAI library\n",
    "from openai import OpenAI"
   ]
  },
  {
   "cell_type": "code",
   "execution_count": 28,
   "metadata": {
    "id": "t7hBkgTsTe2W"
   },
   "outputs": [],
   "source": [
    "# Use the OpenAI client library to add your API key.\n",
    "client = OpenAI(\n",
    "    api_key= \"find your own\"\n",
    ")"
   ]
  },
  {
   "cell_type": "markdown",
   "metadata": {
    "id": "Bm5krV4ewBhs"
   },
   "source": [
    "## Create a While Loop\n",
    "You'll create a while loop that allows the user to input prompts until they are ready to exit the system."
   ]
  },
  {
   "cell_type": "code",
   "execution_count": 22,
   "metadata": {
    "id": "2SnGQ6LCrV2y"
   },
   "outputs": [],
   "source": [
    "# Declare a control variable called end_program and assign the value as False.\n",
    "end_program = False"
   ]
  },
  {
   "cell_type": "code",
   "execution_count": 24,
   "metadata": {},
   "outputs": [],
   "source": [
    "while not end_program:\n",
    "    get_input=input(\"Enter a prompt: \")\n",
    "    if get_input.lower() == \"goodbye\" or get_input.lower() == \"exit\": #exiting\n",
    "        end_program = True\n",
    "        print(\"Have a great day!\")\n",
    "    else: #prompt is inputted into terminal\n",
    "        system_data = [\n",
    "            {\"role\": \"system\", \"content\": \"You are a fortune teller that only tells the user's fortune through emojis.\" \n",
    "            \"If the user asks for a translation from the emojis to english after a fortune is given, provide a translation. The user MUST ask for the translation after asking for their fortune in order to receive a translation.\"\n",
    "             \"Each fortune should be different, silly, and extremely random.\" \n",
    "            \"Also, respond to greetings in english. Be funny as well, and take nothing seriously.\"\n",
    "            },\n",
    "            {\"role\": \"user\", \"content\": get_input}\n",
    "        ] #system data\n",
    "        response = client.chat.completions.create(\n",
    "            model = \"gpt-3.5-turbo\",\n",
    "            messages=system_data        \n",
    "        )\n",
    "        assistant_response = response.choices[0].message.content\n",
    "        system_data.append({\"role\": \"assistant\", \"content\": assistant_response})\n",
    "        print(\"Assistant: \" + assistant_response) #printing responses"
   ]
  },
  {
   "cell_type": "code",
   "execution_count": null,
   "metadata": {},
   "outputs": [],
   "source": []
  }
 ],
 "metadata": {
  "colab": {
   "provenance": [],
   "toc_visible": true
  },
  "kernelspec": {
   "display_name": "Python 3 (ipykernel)",
   "language": "python",
   "name": "python3"
  },
  "language_info": {
   "codemirror_mode": {
    "name": "ipython",
    "version": 3
   },
   "file_extension": ".py",
   "mimetype": "text/x-python",
   "name": "python",
   "nbconvert_exporter": "python",
   "pygments_lexer": "ipython3",
   "version": "3.10.0"
  }
 },
 "nbformat": 4,
 "nbformat_minor": 4
}
